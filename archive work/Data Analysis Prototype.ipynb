{
 "cells": [
  {
   "cell_type": "markdown",
   "metadata": {},
   "source": [
    "### Data Analysis Prototype\n",
    "\n",
    "#### Factors:\n",
    "- Climate\n",
    "    - Temprature\n",
    "    - Weather Alerts\n",
    "    - Air Pollution\n",
    "    - Proability of Raining\n",
    "    - UV index\n"
   ]
  },
  {
   "cell_type": "code",
   "execution_count": 12,
   "metadata": {},
   "outputs": [],
   "source": [
    "# weather_api_key = \"6d8721480064bf3dea0d9376e59638de\"\n",
    "destination_country = \"Egypt\"\n",
    "origin_country = \"UK\"\n",
    "tempratures_egypt = [13.62, 15.24, 18.59, 22.97, 27.09, 29.57, 30.34, 30.60, 28.67, 25.26, 19.50, 15.01]\n",
    "tempratures_uk = [9.13,3.90,4.04,5.65,7.80,10.70,13.43,15.32,15.19,12.94,9.78,6.51, 4.27]\n"
   ]
  },
  {
   "cell_type": "code",
   "execution_count": 18,
   "metadata": {},
   "outputs": [
    {
     "data": {
      "text/plain": [
       "'Destination country is slightly hotter compared to the origin country(5C+)'"
      ]
     },
     "execution_count": 18,
     "metadata": {},
     "output_type": "execute_result"
    }
   ],
   "source": [
    "\n",
    "def compare_countries(origin, destination, month):\n",
    "    difference=destination[month] - origin[month]\n",
    "    if difference > 10:\n",
    "        return \"Destination country is much hotter compared to the origin country(10C+)\"\n",
    "    elif difference > 5:\n",
    "        return \"Destination country is slightly hotter compared to the origin country(5C+)\"\n",
    "    elif difference < -10:\n",
    "        return \"Destination country is much colder compared to the origin country\"\n",
    "    elif difference < -5:\n",
    "        return \"Destination country is slightly colder compared to the origin country\"\n",
    "    else:\n",
    "        return \"Destination country has similar to the origin country\"\n",
    "        \n",
    "    \n",
    "compare_countries(tempratures_uk, tempratures_egypt, 11)"
   ]
  },
  {
   "cell_type": "code",
   "execution_count": null,
   "metadata": {},
   "outputs": [],
   "source": []
  }
 ],
 "metadata": {
  "kernelspec": {
   "display_name": "Python 3",
   "language": "python",
   "name": "python3"
  },
  "language_info": {
   "codemirror_mode": {
    "name": "ipython",
    "version": 3
   },
   "file_extension": ".py",
   "mimetype": "text/x-python",
   "name": "python",
   "nbconvert_exporter": "python",
   "pygments_lexer": "ipython3",
   "version": "3.7.3"
  }
 },
 "nbformat": 4,
 "nbformat_minor": 2
}
